{
 "cells": [
  {
   "cell_type": "code",
   "execution_count": 1,
   "id": "68a6fce3",
   "metadata": {},
   "outputs": [],
   "source": [
    "# import cdsapi\n",
    "# cds = cdsapi.Client(timeout=600, quiet=False, debug=True)\n",
    "import numpy as np\n",
    "import os\n",
    "# import requests\n",
    "import zipfile\n",
    "import tarfile\n",
    "import subprocess\n",
    "from datetime import date\n",
    "import xarray as xr\n",
    "import pandas as pd\n",
    "import rioxarray\n",
    "import geopandas as gpd\n",
    "import matplotlib.pyplot as plt\n",
    "from scipy import stats\n",
    "from scipy.stats.mstats import theilslopes as sens_slope\n",
    "from datetime import datetime\n",
    "\n",
    "from itertools import product\n",
    "from dask.distributed import wait, progress, Client, LocalCluster\n",
    "from pathlib import Path\n",
    "from urllib.request import urlopen\n",
    "from glob import glob\n",
    "\n",
    "\n",
    "import warnings\n",
    "warnings.filterwarnings('ignore', category=RuntimeWarning)\n",
    "\n",
    "import logging\n",
    "logger = logging.getLogger()\n",
    "logger.setLevel(logging.CRITICAL)\n",
    "\n",
    "# Define directories\n",
    "ddir = Path('/data/climate_migration/data/era5/')\n",
    "disdir = Path('/data/climate_migration/data/disasters/')\n",
    "griddir = Path('/data/climate_migration/shp/global_sociodem_grids/')\n",
    "tmpdir = ddir / 'tmp'\n",
    "zsdir = ddir / 'adm1_zonestats'\n",
    "shpdir = Path('/data/climate_migration/shp/')\n",
    "gfdrawdir = shpdir / 'global_flood_database' / 'gfd_v1_4'\n",
    "gfd_fdd_dir = shpdir / 'global_flood_database' / 'flood_duration_025deg'\n",
    "gfd_fdd_popwtd_dir = shpdir / 'global_flood_database' / 'flood_duration_popwtd_025deg'\n",
    "gfd_fdd_agwtd_dir = shpdir / 'global_flood_database' / 'flood_duration_agwtd_025deg'\n",
    "shptmpdir = shpdir / 'tmp'\n",
    "hrdir = ddir / 'hourly'\n",
    "daydir = ddir / 'daily'\n",
    "wkdir = ddir / 'weekly'\n",
    "mondir = ddir / 'monthly'\n",
    "yrdir = ddir / 'yearly'\n",
    "\n",
    "# Define file paths\n",
    "ADM1 = shpdir / 'gadm36_1.shp'\n",
    "LANDSCAN = griddir / 'landscan-global-2020.tif'\n",
    "WORLDCOVER = griddir / 'worldcover_2020_cropland_resampled_LSres_cultivated_km2.tif'\n",
    "LANDSCAN_ERA5res = griddir / 'landscan-global-2020_ERA5grid.tif'\n",
    "WORLDCOVER_ERA5res = griddir / 'worldcover_2020_cropland_resampled_025deg_cultivated_km2.tif'\n",
    "ERA5GRID = shpdir / 'ERA5_025deg_globalgrid.shp'\n",
    "EMDAT_GC_ADM = shpdir / 'emdat_nat_complex_disasters_adm1_int_2000_2022.gpkg'\n",
    "SPI6 = mondir / 'spei' / 'ERA5_monthly_1980_2018_calib_1980_2018_spei_pearson_06.nc'\n",
    "SPI12 = mondir / 'spei' / 'ERA5_monthly_1980_2018_calib_1980_2018_spei_pearson_12.nc'\n",
    "SPI24 = mondir / 'spei' / 'ERA5_monthly_1980_2018_calib_1980_2018_spei_pearson_24.nc'\n",
    "\n",
    "# NOTE: including current year can create some weirdness at the tail end of the time-series\n",
    "SPI_SCALES = [6,12,24]\n",
    "allyears = [\n",
    "    '2016','2017','2018',\n",
    "    '2019','2020','2021'\n",
    "]\n",
    "\n",
    "allmonths = [\n",
    "            '01', '02', '03',\n",
    "            '04', '05', '06',\n",
    "            '07', '08', '09',\n",
    "            '10', '11', '12',\n",
    "        ]\n",
    "\n",
    "alldays = [\n",
    "            '01', '02', '03',\n",
    "            '04', '05', '06',\n",
    "            '07', '08', '09',\n",
    "            '10', '11', '12',\n",
    "            '13', '14', '15',\n",
    "            '16', '17', '18',\n",
    "            '19', '20', '21',\n",
    "            '22', '23', '24',\n",
    "            '25', '26', '27',\n",
    "            '28', '29', '30',\n",
    "            '31',\n",
    "        ]\n",
    "\n",
    "alltimes = [\n",
    "            '00:00', '01:00', '02:00',\n",
    "            '03:00', '04:00', '05:00',\n",
    "            '06:00', '07:00', '08:00',\n",
    "            '09:00', '10:00', '11:00',\n",
    "            '12:00', '13:00', '14:00',\n",
    "            '15:00', '16:00', '17:00',\n",
    "            '18:00', '19:00', '20:00',\n",
    "            '21:00', '22:00', '23:00',\n",
    "        ]\n",
    "\n",
    "all_yrmon = list(product(allyears,allmonths))[:-6]\n",
    "n_yrmon = len(all_yrmon)\n",
    "all_ymd = list(product(allyears,allmonths,alldays))\n",
    "all_ym = list(product(allyears,allmonths))\n",
    "\n",
    "AVGCLIMATE_Y0 = 1980\n",
    "AVGCLIMATE_Y1 = 2018\n",
    "AVGCLIMATE_YRS = [str(y) for y in np.arange(AVGCLIMATE_Y0,AVGCLIMATE_Y1+1)]\n",
    "AVGCLIMATE_YMD = list(product(AVGCLIMATE_YRS, allmonths, alldays))\n",
    "\n",
    "GFDYRS = np.arange(2000,2019)\n",
    "\n",
    "import gc"
   ]
  },
  {
   "cell_type": "code",
   "execution_count": 2,
   "id": "9a2f4876",
   "metadata": {},
   "outputs": [
    {
     "name": "stderr",
     "output_type": "stream",
     "text": [
      "2023-06-01 09:52:01,586 - distributed.diskutils - INFO - Found stale lock file and directory '/data/tmp/snair/tmp/dask-worker-space/dask-worker-space/worker-dk1bnn23', purging\n",
      "2023-06-01 09:52:01,586 - distributed.diskutils - INFO - Found stale lock file and directory '/data/tmp/snair/tmp/dask-worker-space/dask-worker-space/worker-i1l3moxm', purging\n",
      "2023-06-01 09:52:01,587 - distributed.diskutils - INFO - Found stale lock file and directory '/data/tmp/snair/tmp/dask-worker-space/dask-worker-space/worker-sswnnbu3', purging\n",
      "2023-06-01 09:52:01,587 - distributed.diskutils - INFO - Found stale lock file and directory '/data/tmp/snair/tmp/dask-worker-space/dask-worker-space/worker-bx9sg85r', purging\n",
      "2023-06-01 09:52:01,587 - distributed.diskutils - INFO - Found stale lock file and directory '/data/tmp/snair/tmp/dask-worker-space/dask-worker-space/worker-nfvyo5h3', purging\n",
      "2023-06-01 09:52:01,587 - distributed.diskutils - INFO - Found stale lock file and directory '/data/tmp/snair/tmp/dask-worker-space/dask-worker-space/worker-80bsc4f0', purging\n",
      "2023-06-01 09:52:01,588 - distributed.diskutils - INFO - Found stale lock file and directory '/data/tmp/snair/tmp/dask-worker-space/dask-worker-space/worker-gq6zhbor', purging\n",
      "2023-06-01 09:52:01,588 - distributed.diskutils - INFO - Found stale lock file and directory '/data/tmp/snair/tmp/dask-worker-space/dask-worker-space/worker-ecki1r_f', purging\n",
      "2023-06-01 09:52:01,588 - distributed.diskutils - INFO - Found stale lock file and directory '/data/tmp/snair/tmp/dask-worker-space/dask-worker-space/worker-hw_miqma', purging\n",
      "2023-06-01 09:52:01,588 - distributed.diskutils - INFO - Found stale lock file and directory '/data/tmp/snair/tmp/dask-worker-space/dask-worker-space/worker-mhv4dih7', purging\n",
      "2023-06-01 09:52:01,589 - distributed.diskutils - INFO - Found stale lock file and directory '/data/tmp/snair/tmp/dask-worker-space/dask-worker-space/worker-dr1ozzd3', purging\n",
      "2023-06-01 09:52:01,589 - distributed.diskutils - INFO - Found stale lock file and directory '/data/tmp/snair/tmp/dask-worker-space/dask-worker-space/worker-_wbxuh90', purging\n",
      "2023-06-01 09:52:01,589 - distributed.diskutils - INFO - Found stale lock file and directory '/data/tmp/snair/tmp/dask-worker-space/dask-worker-space/worker-d_37j46u', purging\n",
      "2023-06-01 09:52:01,589 - distributed.diskutils - INFO - Found stale lock file and directory '/data/tmp/snair/tmp/dask-worker-space/dask-worker-space/worker-u4q7zh3r', purging\n",
      "2023-06-01 09:52:01,589 - distributed.diskutils - INFO - Found stale lock file and directory '/data/tmp/snair/tmp/dask-worker-space/dask-worker-space/worker-3n7camk3', purging\n",
      "2023-06-01 09:52:01,590 - distributed.diskutils - INFO - Found stale lock file and directory '/data/tmp/snair/tmp/dask-worker-space/dask-worker-space/worker-_7r593hq', purging\n",
      "2023-06-01 09:52:01,590 - distributed.diskutils - INFO - Found stale lock file and directory '/data/tmp/snair/tmp/dask-worker-space/dask-worker-space/worker-ugqt0ugr', purging\n",
      "2023-06-01 09:52:01,590 - distributed.diskutils - INFO - Found stale lock file and directory '/data/tmp/snair/tmp/dask-worker-space/dask-worker-space/worker-mii8glxr', purging\n",
      "2023-06-01 09:52:01,590 - distributed.diskutils - INFO - Found stale lock file and directory '/data/tmp/snair/tmp/dask-worker-space/dask-worker-space/worker-_vs0htxg', purging\n",
      "2023-06-01 09:52:01,590 - distributed.diskutils - INFO - Found stale lock file and directory '/data/tmp/snair/tmp/dask-worker-space/dask-worker-space/worker-4ewzxr4n', purging\n",
      "2023-06-01 09:52:01,590 - distributed.diskutils - INFO - Found stale lock file and directory '/data/tmp/snair/tmp/dask-worker-space/dask-worker-space/worker-bsueudpl', purging\n",
      "2023-06-01 09:52:01,591 - distributed.diskutils - INFO - Found stale lock file and directory '/data/tmp/snair/tmp/dask-worker-space/dask-worker-space/worker-b9dbebia', purging\n",
      "2023-06-01 09:52:01,591 - distributed.diskutils - INFO - Found stale lock file and directory '/data/tmp/snair/tmp/dask-worker-space/dask-worker-space/worker-3w9yh7ny', purging\n",
      "2023-06-01 09:52:01,591 - distributed.diskutils - INFO - Found stale lock file and directory '/data/tmp/snair/tmp/dask-worker-space/dask-worker-space/worker-2iv52nqs', purging\n",
      "2023-06-01 09:52:01,591 - distributed.diskutils - INFO - Found stale lock file and directory '/data/tmp/snair/tmp/dask-worker-space/dask-worker-space/worker-13pmw0ti', purging\n",
      "2023-06-01 09:52:01,591 - distributed.diskutils - INFO - Found stale lock file and directory '/data/tmp/snair/tmp/dask-worker-space/dask-worker-space/worker-8lqchwkk', purging\n"
     ]
    }
   ],
   "source": [
    "# View dashboard by forwarding remote port xxxx to local port (e.g. yyyy), open localhost:yyyy in browser\n",
    "cluster = LocalCluster(\n",
    "    dashboard_address = \"localhost:45285\",\n",
    "    n_workers = 60, \n",
    "    local_directory = \"/data/tmp/snair/tmp/dask-worker-space\"\n",
    ")\n",
    "client = Client(cluster)"
   ]
  },
  {
   "cell_type": "code",
   "execution_count": 3,
   "id": "f8ce2d33",
   "metadata": {},
   "outputs": [],
   "source": [
    "def top3(da, var_name, calc_dim ='year', square = False):\n",
    "\n",
    "    def ufunc_top3(y, square = False):\n",
    "        x = np.sort(y)[-3:]\n",
    "        if square:\n",
    "            x = x**2\n",
    "        return np.array([np.mean(x)])\n",
    "\n",
    "    da_top3 = xr.apply_ufunc(\n",
    "        ufunc_top3,  \n",
    "        da,\n",
    "        input_core_dims=[[calc_dim]],\n",
    "        vectorize=True,\n",
    "        dask=\"parallelized\",\n",
    "        output_dtypes=[da.dtype], \n",
    "        kwargs={'square': square}\n",
    "    ).compute()\n",
    "    \n",
    "    return da_top3\n",
    "\n",
    "def get_yearly_top3(year, df, date_dim = 'year'):\n",
    "    \"\"\"\n",
    "    Function to get the hottest 3 months in a year\n",
    "    Returns a netcdf file that contains 3 months for each year. (721 X 1440 X 3)\n",
    "    \"\"\"\n",
    "    \n",
    "    results = {}\n",
    "    for v, sq in [('t2m', False),\n",
    "                  ('t2m', True)]:\n",
    "        sl = top3(df[v].sel(year = year), v, 'year', square = sq)\n",
    "        if sq:\n",
    "            sl = sl.rename('t2m_sq')\n",
    "            v = 't2m_sq'\n",
    "        results[v] = sl\n",
    "\n",
    "    sl_final = xr.combine_by_coords(results.values())\n",
    "    sl_final = sl_final.assign_coords(year = year)\n",
    "    return sl_final"
   ]
  },
  {
   "cell_type": "markdown",
   "id": "a8127f72",
   "metadata": {},
   "source": [
    "#### Read Climate Data"
   ]
  },
  {
   "cell_type": "code",
   "execution_count": 21,
   "id": "81c4001a",
   "metadata": {},
   "outputs": [],
   "source": [
    "# ### Precipitation\n",
    "# df_clim_tp = xr.open_dataset(str(mondir / 'tp' / 'ERA5_tp_monthly_1959_2021_v1.nc'))\n",
    "# df_clim_tp_40 = df_clim_tp.sel(time = slice(\"1959-01-01\", '1998-12-01')).copy()\n",
    "# df_clim_tp_50 = df_clim_tp.sel(time = slice(\"1959-01-01\", '2008-12-01')).copy()\n",
    "\n",
    "# years = df_clim_tp['time'].dt.year.values\n",
    "# df_clim_tp = df_clim_tp.assign_coords(year = ('time',years)).swap_dims({'time':'year'})\n",
    "\n",
    "# years = df_clim_tp_40['time'].dt.year.values\n",
    "# df_clim_tp_40 = df_clim_tp_40.assign_coords(year = ('time',years)).swap_dims({'time':'year'})\n",
    "\n",
    "# years = df_clim_tp_50['time'].dt.year.values\n",
    "# df_clim_tp_50 = df_clim_tp_50.assign_coords(year = ('time',years)).swap_dims({'time':'year'})\n"
   ]
  },
  {
   "cell_type": "code",
   "execution_count": 4,
   "id": "3664c7f6",
   "metadata": {},
   "outputs": [],
   "source": [
    "# Precipitation\n",
    "df_clim_tp = xr.open_dataset(str(mondir / 'tp' / 'ERA5_tp_monthly_1959_2021_v1.nc'))\n",
    "# df_clim_tp = df_clim_tp.sel(time = slice(\"1989-01-01\", '2018-12-01'))\n",
    "years = df_clim_tp['time'].dt.year.values\n",
    "df_clim_tp = df_clim_tp.assign_coords(year = ('time',years)).swap_dims({'time':'year'})\n",
    "\n",
    "\n",
    "#temperature\n",
    "df_clim = xr.open_dataset(str(mondir / '2t' / 'ERA5_2t_monthly_1959_2021_v1.nc'))\n",
    "# df_clim = df_clim.sel(time = slice(\"1989-01-01\", '2018-12-01'))\n",
    "years = df_clim['time'].dt.year.values\n",
    "df_clim = df_clim.assign_coords(year = ('time',years)).swap_dims({'time':'year'})"
   ]
  },
  {
   "cell_type": "markdown",
   "id": "4f331f4a",
   "metadata": {},
   "source": [
    "#### Get the hottest three months in each year"
   ]
  },
  {
   "cell_type": "code",
   "execution_count": 7,
   "id": "8637810b",
   "metadata": {},
   "outputs": [],
   "source": [
    "#This takes a bit of time to run -- probably want to rewrite using client.map\n",
    "\n",
    "# results = []\n",
    "# for y in range(1959, 2019):\n",
    "#     ## 30 years\n",
    "#     results.append(get_yearly_top3(y, df = df_clim))\n",
    "    \n",
    "# df_final = xr.concat(results, dim = 'year')"
   ]
  },
  {
   "cell_type": "code",
   "execution_count": 5,
   "id": "42d5bad9",
   "metadata": {},
   "outputs": [],
   "source": [
    "futures = client.map(get_yearly_top3, \n",
    "                          np.arange(1959, 2019), \n",
    "                          df = df_clim, \n",
    "                          date_dim = 'year'\n",
    "                         )\n",
    "\n",
    "df_lists = [f.result() for f in futures]\\\n",
    "\n",
    "df_final = xr.concat(df_lists, dim = 'year')\n",
    "\n",
    "gc.collect()"
   ]
  },
  {
   "cell_type": "markdown",
   "id": "28a52816",
   "metadata": {},
   "source": [
    "#### Get historical normal"
   ]
  },
  {
   "cell_type": "code",
   "execution_count": 52,
   "id": "27049844",
   "metadata": {},
   "outputs": [],
   "source": [
    "### Precip\n",
    "df_clim_tp_30= df_clim_tp.sel(year = slice(\"1959\", '1988')).copy()\n",
    "df_clim_tp_30 = df_clim_tp_30.mean('year')\n",
    "\n",
    "### All temperatures\n",
    "df_clim_30 = df_clim.sel(year = slice(\"1959\", \"1988\")).copy()\n",
    "df_clim_30 = df_clim_30.mean('year')\n",
    "\n",
    "## Summer temperatures\n",
    "df_final_30 = df_final.sel(year = slice(\"1959\", \"1988\")).copy()\n",
    "df_final_30 = df_final_30.mean('year')"
   ]
  },
  {
   "cell_type": "markdown",
   "id": "48a34ca2",
   "metadata": {},
   "source": [
    "#### Aggregate at different time scales"
   ]
  },
  {
   "cell_type": "code",
   "execution_count": 59,
   "id": "215c48b9",
   "metadata": {},
   "outputs": [
    {
     "data": {
      "text/plain": [
       "42"
      ]
     },
     "execution_count": 59,
     "metadata": {},
     "output_type": "execute_result"
    }
   ],
   "source": [
    "dfs = []\n",
    "for start, end in [\n",
    "    (1999, 2018), \n",
    "#     (2009, 2018), \n",
    "#     (1995, 2014)\n",
    "]:\n",
    "    ### Temperature ###\n",
    "    \n",
    "    ### Summer ###\n",
    "    df_temp = df_final.sel(year = slice(start, end))\n",
    "    df_temp = df_temp.mean('year')\n",
    "    df_temp = df_temp.rename({'t2m':f't2m_{start-1}_{end}_max3', 't2m_sq':f't2m_sq_{start-1}_{end}_max3'})\n",
    "    \n",
    "    #Add in Anomalies (reference period: 1959 - 1988)\n",
    "    df_temp[f't2m_{start-1}_{end}_max3_anomaly'] = df_temp[f't2m_{start-1}_{end}_max3'] - df_final_30['t2m']\n",
    "    df_temp[f't2m_sq_{start-1}_{end}_max3_anomaly']  = df_temp[f't2m_{start-1}_{end}_max3_anomaly']**2\n",
    "    \n",
    "    \n",
    "    ### All ###\n",
    "    df_normals = df_clim.sel(year=slice(start, end))\n",
    "    df_normals = df_normals.mean('year')\n",
    "    df_normals = df_normals.rename({'t2m':f't2m_Avg_{start-1}_{end}', 't2m_sq':f't2m_sq_Avg_{start-1}_{end}'})\n",
    "    \n",
    "    #Add in Anomalies (reference period: 1959 - 1988)\n",
    "    df_normals[f't2m_Avg_{start-1}_{end}_anomaly'] = df_normals[f't2m_Avg_{start-1}_{end}'] - df_clim_30['t2m']\n",
    "    df_normals[f't2m_sq_Avg_{start-1}_{end}_anomaly']  = df_normals[f't2m_Avg_{start-1}_{end}_anomaly']**2\n",
    "\n",
    "#     df_temp = df_temp.merge(df_normals)\n",
    "    \n",
    "    ### Precip ####\n",
    "\n",
    "    ### All ###\n",
    "    df_precip = df_clim_tp.sel(year = slice(start, end))\n",
    "    df_precip  =df_precip.mean('year')\n",
    "    df_precip = df_precip.rename({'tp':f'tp_Avg_{start-1}_{end}', 'tp_sq':f'tp_sq_Avg_{start-1}_{end}'})\n",
    "    \n",
    "     #Add in Anomalies (reference period: 1959 - 1988)\n",
    "    df_precip[f'tp_Avg_{start-1}_{end}_anomaly'] = df_precip[f'tp_Avg_{start-1}_{end}'] - df_clim_tp_30['tp']\n",
    "    df_precip[f'tp_sq_Avg_{start-1}_{end}_anomaly']  = df_precip[f'tp_Avg_{start-1}_{end}_anomaly']**2\n",
    "    \n",
    "#     df_temp  = df_temp.merge(df_precip)\n",
    "    \n",
    "    dfs = [df_temp, df_normals, df_precip]\n",
    "#     df_temp = None\n",
    "#     df_normals = None\n",
    "#     df_precip = None\n",
    "    \n",
    "    \n",
    "df_main = xr.merge(dfs)\n",
    "\n",
    "gc.collect()"
   ]
  },
  {
   "cell_type": "markdown",
   "id": "07ab498f",
   "metadata": {},
   "source": [
    "#### Add in Degree Days"
   ]
  },
  {
   "cell_type": "markdown",
   "id": "a3635d67",
   "metadata": {},
   "source": [
    "##### To do: add in degree days construction code from Nick's script"
   ]
  },
  {
   "cell_type": "code",
   "execution_count": 74,
   "id": "c0a7223a",
   "metadata": {},
   "outputs": [
    {
     "name": "stdout",
     "output_type": "stream",
     "text": [
      "23\n",
      "1999 2018\n",
      "2009 2018\n",
      "25\n",
      "1999 2018\n",
      "2009 2018\n"
     ]
    }
   ],
   "source": [
    "dfs = []\n",
    "for dd_cutoff in [23, 25]:\n",
    "    print(dd_cutoff)\n",
    "    df_dd = xr.open_dataset(f\"/data/climate_migration/data/era5/monthly/degree_days/ERA5_dd_{dd_cutoff}_monthly_1980_2021.nc\")\n",
    "    for start, end in [(1999, 2018), (2009, 2018)]:\n",
    "        print(start, end)\n",
    "        df_dd_temp = df_dd.sel(date= slice(np.datetime64(f\"{start}-01-01\"), np.datetime64(f\"{end}-12-01\")))\n",
    "        df_dd_temp = df_dd_temp.mean('date')\n",
    "        df_dd_temp = df_dd_temp.rename({x:x+f'_Avg_{start-1}_{end}' for x in df_dd_temp.data_vars})\n",
    "        \n",
    "        dfs.append(df_dd_temp)"
   ]
  },
  {
   "cell_type": "markdown",
   "id": "d799ee45",
   "metadata": {},
   "source": [
    "#### Merge everything together, and save"
   ]
  },
  {
   "cell_type": "code",
   "execution_count": 76,
   "id": "4554cc0f",
   "metadata": {},
   "outputs": [],
   "source": [
    "df_dd_main = xr.merge(dfs)\n",
    "df_dd_main = df_dd_main.rename({'latitude':'lat', 'longitude':'lon'})\n",
    "df_all = xr.merge([df_main, df_dd_main])\n",
    "df_all = df_all.rename({v:v.replace('t2m_', '') for v in df_all.data_vars if 'dd' in v})\n",
    "\n",
    "### Updated to v5 on 1st June 2023\n",
    "df_all.to_netcdf(\"/data/climate_migration/data/master/climate_master_monthly_v5.nc\")\n",
    "df_all.to_dataframe().to_csv(\"/data/climate_migration/data/master/climate_master_monthly_v5.csv\")"
   ]
  },
  {
   "cell_type": "markdown",
   "id": "6cd92930",
   "metadata": {},
   "source": [
    "#### Create GADM1 level population weighted aggregates"
   ]
  },
  {
   "cell_type": "code",
   "execution_count": 251,
   "id": "6941237f",
   "metadata": {},
   "outputs": [],
   "source": [
    "# df_clim = xr.open_dataset(str(mondir / '2t' / 'ERA5_2t_monthly_1959_2021_v1.nc'))\n",
    "# df_clim = df_clim.sel(time = slice(\"1995-01-01\", '2014-12-01'))\n",
    "# years = df_clim['time'].dt.year.values\n",
    "# df_clim = df_clim.assign_coords(year = ('time',years)).swap_dims({'time':'year'})\n",
    "# df_clim = df_clim.mean('year')\n",
    "# df_clim.to_netcdf(\"/data/climate_migration/data/master/temp_1995_2015.nc\")"
   ]
  },
  {
   "cell_type": "code",
   "execution_count": 257,
   "id": "fca13876",
   "metadata": {},
   "outputs": [
    {
     "name": "stderr",
     "output_type": "stream",
     "text": [
      "Warning 1: No UNIDATA NC_GLOBAL:Conventions attribute\n"
     ]
    },
    {
     "data": {
      "text/plain": [
       "0"
      ]
     },
     "execution_count": 257,
     "metadata": {},
     "output_type": "execute_result"
    }
   ],
   "source": [
    "# command2 = ['~/bin/exactextract', \n",
    "#     f'-r \"tas:NETCDF:/data/climate_migration/data/master/temp_1995_2015.nc:t2m\"', \n",
    "#     '-r \"pop:/data/climate_migration/shp/global_sociodem_grids/landscan-global-2020.tif\"', \n",
    "#     '-p /data/climate_migration/shp/gadm36_1.shp -f GID_1', \n",
    "#     f'-s \"t2m_Avg_1995_2015_pop_mean=weighted_mean(tas,pop)\"', \n",
    "#     f'-o /data/climate_migration/data/master/gadm1/t2m_Avg_1995_2015_mean_popweighted.csv']\n",
    "\n",
    "# os.system(' '.join(command2))"
   ]
  },
  {
   "cell_type": "code",
   "execution_count": 16,
   "id": "a60f7ec3",
   "metadata": {},
   "outputs": [
    {
     "name": "stdout",
     "output_type": "stream",
     "text": [
      "t2m_1998_2018_max3\n"
     ]
    },
    {
     "name": "stderr",
     "output_type": "stream",
     "text": [
      "Warning 1: No UNIDATA NC_GLOBAL:Conventions attribute\n"
     ]
    },
    {
     "name": "stdout",
     "output_type": "stream",
     "text": [
      "t2m_Avg_1998_2018\n"
     ]
    },
    {
     "name": "stderr",
     "output_type": "stream",
     "text": [
      "Warning 1: No UNIDATA NC_GLOBAL:Conventions attribute\n"
     ]
    },
    {
     "name": "stdout",
     "output_type": "stream",
     "text": [
      "t2m_2008_2018_max3\n"
     ]
    },
    {
     "name": "stderr",
     "output_type": "stream",
     "text": [
      "Warning 1: No UNIDATA NC_GLOBAL:Conventions attribute\n"
     ]
    },
    {
     "name": "stdout",
     "output_type": "stream",
     "text": [
      "t2m_Avg_2008_2018\n"
     ]
    },
    {
     "name": "stderr",
     "output_type": "stream",
     "text": [
      "Warning 1: No UNIDATA NC_GLOBAL:Conventions attribute\n"
     ]
    },
    {
     "name": "stdout",
     "output_type": "stream",
     "text": [
      "t2m_1994_2014_max3\n"
     ]
    },
    {
     "name": "stderr",
     "output_type": "stream",
     "text": [
      "Warning 1: No UNIDATA NC_GLOBAL:Conventions attribute\n"
     ]
    },
    {
     "name": "stdout",
     "output_type": "stream",
     "text": [
      "t2m_Avg_1994_2014\n"
     ]
    },
    {
     "name": "stderr",
     "output_type": "stream",
     "text": [
      "Warning 1: No UNIDATA NC_GLOBAL:Conventions attribute\n"
     ]
    }
   ],
   "source": [
    "for c in ['t2m_1998_2018_max3', 't2m_Avg_1998_2018', \n",
    "          't2m_2008_2018_max3', 't2m_Avg_2008_2018', \n",
    "          't2m_1994_2014_max3', 't2m_Avg_1994_2014']:\n",
    "\n",
    "    print(c)\n",
    "    command2 = ['~/bin/exactextract', \n",
    "        f'-r \"tas:NETCDF:/data/climate_migration/data/master/climate_master_monthly_v4.nc:{c}\"', \n",
    "        '-r \"pop:/data/climate_migration/shp/global_sociodem_grids/landscan-global-2020.tif\"', \n",
    "        '-p /data/climate_migration/shp/gadm36_1.shp -f GID_1', \n",
    "        f'-s \"{c}_pop_mean=weighted_mean(tas,pop)\"', \n",
    "        f'-o /data/climate_migration/data/master/gadm1/{c}_mean_popweighted.csv']\n",
    "    \n",
    "    os.system(' '.join(command2))"
   ]
  },
  {
   "cell_type": "code",
   "execution_count": 19,
   "id": "94fa17c2",
   "metadata": {},
   "outputs": [],
   "source": [
    "from functools import reduce\n",
    "cols = ['t2m_1998_2018_max3', 't2m_Avg_1998_2018', 't2m_2008_2018_max3', 't2m_Avg_2008_2018', 't2m_1994_2014_max3', \n",
    "        't2m_Avg_1994_2014']\n",
    "inpath = \"/data/climate_migration/data/master/gadm1\"\n",
    "dfs = [pd.read_csv(f\"{inpath}/{c}_mean_popweighted.csv\") for c in cols]\n",
    "dfs = reduce(lambda x, y: pd.merge(x, y, on = 'GID_1'), dfs)\n",
    "dfs.to_csv(f\"{inpath}/gadm1_popweighted.csv\", index = False)"
   ]
  },
  {
   "cell_type": "code",
   "execution_count": 20,
   "id": "10d88f8e",
   "metadata": {},
   "outputs": [
    {
     "data": {
      "text/html": [
       "<div>\n",
       "<style scoped>\n",
       "    .dataframe tbody tr th:only-of-type {\n",
       "        vertical-align: middle;\n",
       "    }\n",
       "\n",
       "    .dataframe tbody tr th {\n",
       "        vertical-align: top;\n",
       "    }\n",
       "\n",
       "    .dataframe thead th {\n",
       "        text-align: right;\n",
       "    }\n",
       "</style>\n",
       "<table border=\"1\" class=\"dataframe\">\n",
       "  <thead>\n",
       "    <tr style=\"text-align: right;\">\n",
       "      <th></th>\n",
       "      <th>GID_1</th>\n",
       "      <th>t2m_1998_2018_max3_pop_mean</th>\n",
       "      <th>t2m_Avg_1998_2018_pop_mean</th>\n",
       "      <th>t2m_2008_2018_max3_pop_mean</th>\n",
       "      <th>t2m_Avg_2008_2018_pop_mean</th>\n",
       "      <th>t2m_1994_2014_max3_pop_mean</th>\n",
       "      <th>t2m_Avg_1994_2014_pop_mean</th>\n",
       "    </tr>\n",
       "  </thead>\n",
       "  <tbody>\n",
       "    <tr>\n",
       "      <th>0</th>\n",
       "      <td>AFG.1_1</td>\n",
       "      <td>16.300806</td>\n",
       "      <td>4.806813</td>\n",
       "      <td>16.576187</td>\n",
       "      <td>5.084758</td>\n",
       "      <td>15.949899</td>\n",
       "      <td>4.426816</td>\n",
       "    </tr>\n",
       "    <tr>\n",
       "      <th>1</th>\n",
       "      <td>AFG.2_1</td>\n",
       "      <td>22.319508</td>\n",
       "      <td>11.891557</td>\n",
       "      <td>22.781633</td>\n",
       "      <td>12.101844</td>\n",
       "      <td>22.062420</td>\n",
       "      <td>11.591336</td>\n",
       "    </tr>\n",
       "    <tr>\n",
       "      <th>2</th>\n",
       "      <td>AFG.3_1</td>\n",
       "      <td>21.904463</td>\n",
       "      <td>10.907340</td>\n",
       "      <td>22.075661</td>\n",
       "      <td>11.049294</td>\n",
       "      <td>21.522558</td>\n",
       "      <td>10.472997</td>\n",
       "    </tr>\n",
       "    <tr>\n",
       "      <th>3</th>\n",
       "      <td>AFG.4_1</td>\n",
       "      <td>28.319477</td>\n",
       "      <td>16.817507</td>\n",
       "      <td>28.551853</td>\n",
       "      <td>16.888760</td>\n",
       "      <td>28.110586</td>\n",
       "      <td>16.560560</td>\n",
       "    </tr>\n",
       "    <tr>\n",
       "      <th>4</th>\n",
       "      <td>AFG.5_1</td>\n",
       "      <td>13.187573</td>\n",
       "      <td>1.156556</td>\n",
       "      <td>13.248713</td>\n",
       "      <td>1.142758</td>\n",
       "      <td>12.985700</td>\n",
       "      <td>0.914253</td>\n",
       "    </tr>\n",
       "    <tr>\n",
       "      <th>...</th>\n",
       "      <td>...</td>\n",
       "      <td>...</td>\n",
       "      <td>...</td>\n",
       "      <td>...</td>\n",
       "      <td>...</td>\n",
       "      <td>...</td>\n",
       "      <td>...</td>\n",
       "    </tr>\n",
       "    <tr>\n",
       "      <th>3605</th>\n",
       "      <td>ZWE.6_1</td>\n",
       "      <td>24.413267</td>\n",
       "      <td>21.193567</td>\n",
       "      <td>24.690687</td>\n",
       "      <td>21.352455</td>\n",
       "      <td>24.333332</td>\n",
       "      <td>21.123974</td>\n",
       "    </tr>\n",
       "    <tr>\n",
       "      <th>3606</th>\n",
       "      <td>ZWE.7_1</td>\n",
       "      <td>24.690609</td>\n",
       "      <td>21.212187</td>\n",
       "      <td>24.874716</td>\n",
       "      <td>21.467167</td>\n",
       "      <td>24.526571</td>\n",
       "      <td>21.066053</td>\n",
       "    </tr>\n",
       "    <tr>\n",
       "      <th>3607</th>\n",
       "      <td>ZWE.8_1</td>\n",
       "      <td>25.415670</td>\n",
       "      <td>21.944431</td>\n",
       "      <td>25.598915</td>\n",
       "      <td>22.079290</td>\n",
       "      <td>25.360188</td>\n",
       "      <td>21.877876</td>\n",
       "    </tr>\n",
       "    <tr>\n",
       "      <th>3608</th>\n",
       "      <td>ZWE.9_1</td>\n",
       "      <td>25.013626</td>\n",
       "      <td>21.237770</td>\n",
       "      <td>25.144106</td>\n",
       "      <td>21.422998</td>\n",
       "      <td>24.885050</td>\n",
       "      <td>21.104868</td>\n",
       "    </tr>\n",
       "    <tr>\n",
       "      <th>3609</th>\n",
       "      <td>ZWE.10_1</td>\n",
       "      <td>24.394333</td>\n",
       "      <td>20.978575</td>\n",
       "      <td>24.638643</td>\n",
       "      <td>21.177717</td>\n",
       "      <td>24.292381</td>\n",
       "      <td>20.887836</td>\n",
       "    </tr>\n",
       "  </tbody>\n",
       "</table>\n",
       "<p>3610 rows × 7 columns</p>\n",
       "</div>"
      ],
      "text/plain": [
       "         GID_1  t2m_1998_2018_max3_pop_mean  t2m_Avg_1998_2018_pop_mean  \\\n",
       "0      AFG.1_1                    16.300806                    4.806813   \n",
       "1      AFG.2_1                    22.319508                   11.891557   \n",
       "2      AFG.3_1                    21.904463                   10.907340   \n",
       "3      AFG.4_1                    28.319477                   16.817507   \n",
       "4      AFG.5_1                    13.187573                    1.156556   \n",
       "...        ...                          ...                         ...   \n",
       "3605   ZWE.6_1                    24.413267                   21.193567   \n",
       "3606   ZWE.7_1                    24.690609                   21.212187   \n",
       "3607   ZWE.8_1                    25.415670                   21.944431   \n",
       "3608   ZWE.9_1                    25.013626                   21.237770   \n",
       "3609  ZWE.10_1                    24.394333                   20.978575   \n",
       "\n",
       "      t2m_2008_2018_max3_pop_mean  t2m_Avg_2008_2018_pop_mean  \\\n",
       "0                       16.576187                    5.084758   \n",
       "1                       22.781633                   12.101844   \n",
       "2                       22.075661                   11.049294   \n",
       "3                       28.551853                   16.888760   \n",
       "4                       13.248713                    1.142758   \n",
       "...                           ...                         ...   \n",
       "3605                    24.690687                   21.352455   \n",
       "3606                    24.874716                   21.467167   \n",
       "3607                    25.598915                   22.079290   \n",
       "3608                    25.144106                   21.422998   \n",
       "3609                    24.638643                   21.177717   \n",
       "\n",
       "      t2m_1994_2014_max3_pop_mean  t2m_Avg_1994_2014_pop_mean  \n",
       "0                       15.949899                    4.426816  \n",
       "1                       22.062420                   11.591336  \n",
       "2                       21.522558                   10.472997  \n",
       "3                       28.110586                   16.560560  \n",
       "4                       12.985700                    0.914253  \n",
       "...                           ...                         ...  \n",
       "3605                    24.333332                   21.123974  \n",
       "3606                    24.526571                   21.066053  \n",
       "3607                    25.360188                   21.877876  \n",
       "3608                    24.885050                   21.104868  \n",
       "3609                    24.292381                   20.887836  \n",
       "\n",
       "[3610 rows x 7 columns]"
      ]
     },
     "execution_count": 20,
     "metadata": {},
     "output_type": "execute_result"
    }
   ],
   "source": [
    "dfs"
   ]
  }
 ],
 "metadata": {
  "kernelspec": {
   "display_name": "nick",
   "language": "python",
   "name": "nick"
  },
  "language_info": {
   "codemirror_mode": {
    "name": "ipython",
    "version": 3
   },
   "file_extension": ".py",
   "mimetype": "text/x-python",
   "name": "python",
   "nbconvert_exporter": "python",
   "pygments_lexer": "ipython3",
   "version": "3.10.6"
  }
 },
 "nbformat": 4,
 "nbformat_minor": 5
}
